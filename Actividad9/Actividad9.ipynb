{
 "cells": [
  {
   "cell_type": "code",
   "execution_count": 15,
   "metadata": {},
   "outputs": [],
   "source": [
    "from numpy import loadtxt\n",
    "from pylab import figure, plot, xlabel, grid, legend, title, savefig\n",
    "from matplotlib.font_manager import FontProperties\n",
    "from scipy.integrate import odeint"
   ]
  },
  {
   "cell_type": "code",
   "execution_count": 16,
   "metadata": {},
   "outputs": [],
   "source": [
    "def vectorfield(w, t, p):\n",
    "    \"\"\"\n",
    "    Defines the differential equations for the coupled spring-mass system.\n",
    "\n",
    "    Arguments:\n",
    "        w :  vector of the state variables:\n",
    "                  w = [x1,y1,x2,y2]\n",
    "        t :  time\n",
    "        p :  vector of the parameters:\n",
    "                  p = [m1,m2,k1,k2,L1,L2,b1,b2]\n",
    "    \"\"\"\n",
    "    x1, y1, x2, y2 = w\n",
    "    m1, m2, k1, k2 , k3 , L1, L2, b1, b2 = p\n",
    "\n",
    "    # Create f = (x1',y1',x2',y2'):\n",
    "    f = [y1,\n",
    "         (-y1*b1 - k1 * (x1 - L1) - k2 * ( x1 + L2 - x2 )) / m1,\n",
    "         y2,\n",
    "         (-y2*b2 - k3 * ( x2 - L2 -L1) - k2 * ( x2 - L2 - x1 ))/ m2] \n",
    "    \n",
    "    \n",
    "    \n",
    "    \n",
    "    #[y1 , (-k1*(x1-L1)-k2*(-L1+x1+(L2-x2)))/ m1,\n",
    "    #     y2,\n",
    "    #     (-k3*(x2-L2)-k2*(-L2+x2+L1-x1))/ m2]\n",
    "    return f"
   ]
  },
  {
   "cell_type": "code",
   "execution_count": 17,
   "metadata": {},
   "outputs": [],
   "source": [
    "\n",
    "# Parameter values\n",
    "# Masses:\n",
    "m1 = 1.0\n",
    "m2 = 1\n",
    "# Spring constants\n",
    "k1 = 1\n",
    "k2 = 1\n",
    "k3 = 1\n",
    "# Natural lengths\n",
    "L1 = 1\n",
    "L2 = 1.0\n",
    "# Friction coefficients\n",
    "b1 = 0.3\n",
    "b2 = 0.7\n",
    "\n",
    "# Initial conditions\n",
    "# x1 and x2 are the initial displacements; y1 and y2 are the initial velocities\n",
    "x1 = 1\n",
    "y1 = 3\n",
    "x2 = 0.5\n",
    "y2 = 4\n",
    "\n",
    "# ODE solver parameters\n",
    "abserr = 1.0e-8\n",
    "relerr = 1.0e-6\n",
    "stoptime = 30.0\n",
    "numpoints = 750\n",
    "\n",
    "# Create the time samples for the output of the ODE solver.\n",
    "# I use a large number of points, only because I want to make\n",
    "# a plot of the solution that looks nice.\n",
    "t = [stoptime * float(i) / (numpoints - 1) for i in range(numpoints)]\n",
    "\n",
    "# Pack up the parameters and initial conditions:\n",
    "p = [m1, m2, k1, k2, k3 , L1, L2, b1, b2]\n",
    "w0 = [x1, y1, x2, y2]\n",
    "\n",
    "# Call the ODE solver.\n",
    "wsol = odeint(vectorfield, w0, t, args=(p,),\n",
    "              atol=abserr, rtol=relerr)\n",
    "\n",
    "\n",
    "for t1, w1 in zip(t, wsol):\n",
    "    print(t1, w1[0], w1[1], w1[2], w1[3], file=open(\"two_springs.dat\", \"a\"))"
   ]
  },
  {
   "cell_type": "code",
   "execution_count": 18,
   "metadata": {},
   "outputs": [
    {
     "data": {
      "image/png": "[encoded data removed]",
      "text/plain": [
       "<Figure size 576x432 with 1 Axes>"
      ]
     },
     "metadata": {
      "needs_background": "light"
     },
     "output_type": "display_data"
    }
   ],
   "source": [
    "t, x1, xy, x2, y2 = loadtxt('two_springs.dat', unpack=True)\n",
    "\n",
    "figure(1, figsize=(8, 6))\n",
    "\n",
    "xlabel('tiempo (s)')\n",
    "grid(True)\n",
    "#hold(True)\n",
    "lw = 1\n",
    "\n",
    "plot(t, x1, 'b', linewidth=lw)\n",
    "plot(t, x2, 'g', linewidth=lw)\n",
    "\n",
    "legend((r'$x_1$', r'$x_2$'), prop=FontProperties(size=16))\n",
    "title('Mass Displacements for the\\nCoupled Spring-Mass System')\n",
    "savefig('two_springs.png', dpi=100)"
   ]
  },
  {
   "cell_type": "code",
   "execution_count": null,
   "metadata": {},
   "outputs": [],
   "source": []
  },
  {
   "cell_type": "code",
   "execution_count": null,
   "metadata": {},
   "outputs": [],
   "source": []
  },
  {
   "cell_type": "code",
   "execution_count": null,
   "metadata": {},
   "outputs": [],
   "source": []
  },
  {
   "cell_type": "code",
   "execution_count": null,
   "metadata": {},
   "outputs": [],
   "source": []
  }
 ],
 "metadata": {
  "kernelspec": {
   "display_name": "Python 3",
   "language": "python",
   "name": "python3"
  },
  "language_info": {
   "codemirror_mode": {
    "name": "ipython",
    "version": 3
   },
   "file_extension": ".py",
   "mimetype": "text/x-python",
   "name": "python",
   "nbconvert_exporter": "python",
   "pygments_lexer": "ipython3",
   "version": "3.7.1"
  }
 },
 "nbformat": 4,
 "nbformat_minor": 2
}
