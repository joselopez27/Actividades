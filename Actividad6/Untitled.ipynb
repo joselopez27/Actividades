{
 "cells": [
  {
   "cell_type": "code",
   "execution_count": 732,
   "metadata": {},
   "outputs": [],
   "source": [
    "#Cargar la biblioteca pandas\n",
    "import pandas as pd\n",
    "import numpy as np\n",
    "import matplotlib.pyplot as plt"
   ]
  },
  {
   "cell_type": "code",
   "execution_count": 733,
   "metadata": {},
   "outputs": [],
   "source": [
    "#Creamos un data frame a partir del archivo que leemos\n",
    "df0=pd.read_csv('hermosillo.dat')"
   ]
  },
  {
   "cell_type": "code",
   "execution_count": 734,
   "metadata": {},
   "outputs": [],
   "source": [
    "#Creamo una columa de tipo tiempo y borramos la anterior\n",
    "df0['FECHA'] = pd.to_datetime(df0.apply(lambda x: x['TIMESTAMP'], 1), dayfirst=True)\n",
    "df0 = df0.drop(['TIMESTAMP'], 1)"
   ]
  },
  {
   "cell_type": "code",
   "execution_count": 735,
   "metadata": {},
   "outputs": [],
   "source": [
    "#Crea una columna de los meses\n",
    "df0['month'] = pd.DatetimeIndex(df0[\"FECHA\"]).month\n",
    "\n",
    "#Crea una columna de años\n",
    "df0[\"year\"] = pd.DatetimeIndex(df0[\"FECHA\"]).year\n",
    "\n",
    "#Crea una columna de los dias\n",
    "df0[\"day\"] = pd.DatetimeIndex(df0[\"FECHA\"]).day\n",
    "\n",
    "#Crea una columna de las horas\n",
    "df0[\"HOR\"] = pd.DatetimeIndex(df0[\"FECHA\"]).hour"
   ]
  },
  {
   "cell_type": "code",
   "execution_count": 736,
   "metadata": {},
   "outputs": [],
   "source": [
    "#Creamos otro dataframe con las columas que ocuparemos\n",
    "df=df0[[\"FECHA\",\"AirTC_Avg\",\"HOR\",\"day\",\"month\",\"year\"]]"
   ]
  },
  {
   "cell_type": "code",
   "execution_count": 737,
   "metadata": {},
   "outputs": [],
   "source": [
    "#Dividimos el dataframe a partir del tiempo donde comenzaremos el analsisis (Primero de noviembre)\n",
    "df=df.loc[(df['FECHA']>='2018-11-01 00:00:00')]\n"
   ]
  },
  {
   "cell_type": "code",
   "execution_count": 739,
   "metadata": {},
   "outputs": [
    {
     "data": {
      "text/html": [
       "<div>\n",
       "<style scoped>\n",
       "    .dataframe tbody tr th:only-of-type {\n",
       "        vertical-align: middle;\n",
       "    }\n",
       "\n",
       "    .dataframe tbody tr th {\n",
       "        vertical-align: top;\n",
       "    }\n",
       "\n",
       "    .dataframe thead th {\n",
       "        text-align: right;\n",
       "    }\n",
       "</style>\n",
       "<table border=\"1\" class=\"dataframe\">\n",
       "  <thead>\n",
       "    <tr style=\"text-align: right;\">\n",
       "      <th></th>\n",
       "      <th>FECHA</th>\n",
       "      <th>AirTC_Avg</th>\n",
       "      <th>HOR</th>\n",
       "      <th>day</th>\n",
       "      <th>month</th>\n",
       "      <th>year</th>\n",
       "      <th>TMIN</th>\n",
       "    </tr>\n",
       "  </thead>\n",
       "  <tbody>\n",
       "    <tr>\n",
       "      <th>24935</th>\n",
       "      <td>2018-11-01 00:00:00</td>\n",
       "      <td>9.13</td>\n",
       "      <td>0</td>\n",
       "      <td>1</td>\n",
       "      <td>11</td>\n",
       "      <td>2018</td>\n",
       "      <td>6.096</td>\n",
       "    </tr>\n",
       "    <tr>\n",
       "      <th>24936</th>\n",
       "      <td>2018-11-01 00:10:00</td>\n",
       "      <td>8.89</td>\n",
       "      <td>0</td>\n",
       "      <td>1</td>\n",
       "      <td>11</td>\n",
       "      <td>2018</td>\n",
       "      <td>6.096</td>\n",
       "    </tr>\n",
       "    <tr>\n",
       "      <th>24937</th>\n",
       "      <td>2018-11-01 00:20:00</td>\n",
       "      <td>8.66</td>\n",
       "      <td>0</td>\n",
       "      <td>1</td>\n",
       "      <td>11</td>\n",
       "      <td>2018</td>\n",
       "      <td>6.096</td>\n",
       "    </tr>\n",
       "    <tr>\n",
       "      <th>24938</th>\n",
       "      <td>2018-11-01 00:30:00</td>\n",
       "      <td>8.52</td>\n",
       "      <td>0</td>\n",
       "      <td>1</td>\n",
       "      <td>11</td>\n",
       "      <td>2018</td>\n",
       "      <td>6.096</td>\n",
       "    </tr>\n",
       "    <tr>\n",
       "      <th>24939</th>\n",
       "      <td>2018-11-01 00:40:00</td>\n",
       "      <td>8.47</td>\n",
       "      <td>0</td>\n",
       "      <td>1</td>\n",
       "      <td>11</td>\n",
       "      <td>2018</td>\n",
       "      <td>6.096</td>\n",
       "    </tr>\n",
       "  </tbody>\n",
       "</table>\n",
       "</div>"
      ],
      "text/plain": [
       "                    FECHA  AirTC_Avg  HOR  day  month  year   TMIN\n",
       "24935 2018-11-01 00:00:00       9.13    0    1     11  2018  6.096\n",
       "24936 2018-11-01 00:10:00       8.89    0    1     11  2018  6.096\n",
       "24937 2018-11-01 00:20:00       8.66    0    1     11  2018  6.096\n",
       "24938 2018-11-01 00:30:00       8.52    0    1     11  2018  6.096\n",
       "24939 2018-11-01 00:40:00       8.47    0    1     11  2018  6.096"
      ]
     },
     "execution_count": 739,
     "metadata": {},
     "output_type": "execute_result"
    }
   ],
   "source": [
    "#Sacamos un promedio de las temperaturas, por hora\n",
    "#df['TPROM']=df.groupby(['AÑO','MES','DIA','HOR'])['AirTC_Avg'].transform('mean')\n",
    "df['TMIN']=df.groupby(['year','month','day'])['AirTC_Avg'].transform('min')\n",
    "df.head()"
   ]
  },
  {
   "cell_type": "code",
   "execution_count": 740,
   "metadata": {},
   "outputs": [],
   "source": [
    "#Determinamos el valor de HFE por hora, a partir de restricciones\n",
    "df['TPROM']=df.groupby(['year','month','day','HOR'])['AirTC_Avg'].transform('mean')\n",
    "condicion=[(df[\"TPROM\"]>=0) & (df[\"TPROM\"]<=10),\n",
    "          (df[\"TPROM\"]>=25)]\n",
    "resultados=[1,-1]\n",
    "df[\"HFE\"]= np.select(condicion,resultados,default=0)\n",
    "#df= df.resample('d', on='FECHA').sum().dropna(how='all')"
   ]
  },
  {
   "cell_type": "code",
   "execution_count": 722,
   "metadata": {},
   "outputs": [],
   "source": [
    "df.drop([\"FECHA\",\"AirTC_Avg\",\"TPROM\"], axis = 1, inplace = True, errors = 'ignore')\n",
    "df=df.drop_duplicates()"
   ]
  },
  {
   "cell_type": "code",
   "execution_count": 723,
   "metadata": {},
   "outputs": [],
   "source": [
    "df['HFESUM']=df.groupby(['year','month','day'])['HFE'].transform(\"sum\")"
   ]
  },
  {
   "cell_type": "code",
   "execution_count": 724,
   "metadata": {},
   "outputs": [],
   "source": [
    "df.drop([\"HOR\"], axis = 1, inplace = True, errors = 'ignore')"
   ]
  },
  {
   "cell_type": "code",
   "execution_count": 725,
   "metadata": {},
   "outputs": [],
   "source": [
    "df[\"FECHA\"]=pd.to_datetime(df[['year', 'month', 'day']])"
   ]
  },
  {
   "cell_type": "code",
   "execution_count": 726,
   "metadata": {},
   "outputs": [],
   "source": [
    "df.drop([\"day\",\"month\",\"year\",\"HFE\"], axis = 1, inplace = True, errors = 'ignore')"
   ]
  },
  {
   "cell_type": "code",
   "execution_count": 727,
   "metadata": {},
   "outputs": [],
   "source": [
    "df = df[~df.index.duplicated(keep='FECHA')]"
   ]
  },
  {
   "cell_type": "code",
   "execution_count": 728,
   "metadata": {},
   "outputs": [],
   "source": [
    "df=df.drop_duplicates()"
   ]
  },
  {
   "cell_type": "code",
   "execution_count": 729,
   "metadata": {},
   "outputs": [],
   "source": [
    "df[\"sumHFE\"]=df[\"HFESUM\"].cumsum()"
   ]
  },
  {
   "cell_type": "code",
   "execution_count": 730,
   "metadata": {},
   "outputs": [],
   "source": [
    "df.drop([\"HFESUM\"], axis = 1, inplace = True, errors = 'ignore')"
   ]
  },
  {
   "cell_type": "code",
   "execution_count": 731,
   "metadata": {},
   "outputs": [
    {
     "data": {
      "text/html": [
       "<div>\n",
       "<style scoped>\n",
       "    .dataframe tbody tr th:only-of-type {\n",
       "        vertical-align: middle;\n",
       "    }\n",
       "\n",
       "    .dataframe tbody tr th {\n",
       "        vertical-align: top;\n",
       "    }\n",
       "\n",
       "    .dataframe thead th {\n",
       "        text-align: right;\n",
       "    }\n",
       "</style>\n",
       "<table border=\"1\" class=\"dataframe\">\n",
       "  <thead>\n",
       "    <tr style=\"text-align: right;\">\n",
       "      <th></th>\n",
       "      <th>TMIN</th>\n",
       "      <th>FECHA</th>\n",
       "      <th>sumHFE</th>\n",
       "    </tr>\n",
       "  </thead>\n",
       "  <tbody>\n",
       "    <tr>\n",
       "      <th>24935</th>\n",
       "      <td>6.096</td>\n",
       "      <td>2018-11-01</td>\n",
       "      <td>2</td>\n",
       "    </tr>\n",
       "    <tr>\n",
       "      <th>25079</th>\n",
       "      <td>10.020</td>\n",
       "      <td>2018-11-02</td>\n",
       "      <td>-6</td>\n",
       "    </tr>\n",
       "    <tr>\n",
       "      <th>25223</th>\n",
       "      <td>10.160</td>\n",
       "      <td>2018-11-03</td>\n",
       "      <td>-14</td>\n",
       "    </tr>\n",
       "    <tr>\n",
       "      <th>25367</th>\n",
       "      <td>11.160</td>\n",
       "      <td>2018-11-04</td>\n",
       "      <td>-22</td>\n",
       "    </tr>\n",
       "    <tr>\n",
       "      <th>25511</th>\n",
       "      <td>11.130</td>\n",
       "      <td>2018-11-05</td>\n",
       "      <td>-30</td>\n",
       "    </tr>\n",
       "  </tbody>\n",
       "</table>\n",
       "</div>"
      ],
      "text/plain": [
       "         TMIN      FECHA  sumHFE\n",
       "24935   6.096 2018-11-01       2\n",
       "25079  10.020 2018-11-02      -6\n",
       "25223  10.160 2018-11-03     -14\n",
       "25367  11.160 2018-11-04     -22\n",
       "25511  11.130 2018-11-05     -30"
      ]
     },
     "execution_count": 731,
     "metadata": {},
     "output_type": "execute_result"
    }
   ],
   "source": [
    "df.head()"
   ]
  },
  {
   "cell_type": "code",
   "execution_count": 713,
   "metadata": {},
   "outputs": [
    {
     "data": {
      "text/plain": [
       "<matplotlib.axes._subplots.AxesSubplot at 0x7f472b35dfd0>"
      ]
     },
     "execution_count": 713,
     "metadata": {},
     "output_type": "execute_result"
    },
    {
     "data": {
      "image/png": "[encoded data removed]",
      "text/plain": [
       "<Figure size 432x288 with 1 Axes>"
      ]
     },
     "metadata": {
      "needs_background": "light"
     },
     "output_type": "display_data"
    }
   ],
   "source": [
    "df.reset_index().plot(x=\"FECHA\",y=[\"sumHFE\"])"
   ]
  },
  {
   "cell_type": "code",
   "execution_count": null,
   "metadata": {},
   "outputs": [],
   "source": []
  },
  {
   "cell_type": "code",
   "execution_count": null,
   "metadata": {},
   "outputs": [],
   "source": []
  }
 ],
 "metadata": {
  "kernelspec": {
   "display_name": "Python 3",
   "language": "python",
   "name": "python3"
  },
  "language_info": {
   "codemirror_mode": {
    "name": "ipython",
    "version": 3
   },
   "file_extension": ".py",
   "mimetype": "text/x-python",
   "name": "python",
   "nbconvert_exporter": "python",
   "pygments_lexer": "ipython3",
   "version": "3.7.1"
  }
 },
 "nbformat": 4,
 "nbformat_minor": 2
}
