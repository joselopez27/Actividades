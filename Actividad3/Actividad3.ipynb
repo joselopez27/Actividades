{
 "cells": [
  {
   "cell_type": "code",
   "execution_count": 2,
   "metadata": {},
   "outputs": [],
   "source": [
    "#Cargar la biblioteca pandas\n",
    "import pandas as pd\n",
    "import numpy as np\n",
    "import matplotlib.pyplot as plt"
   ]
  },
  {
   "cell_type": "code",
   "execution_count": 3,
   "metadata": {},
   "outputs": [],
   "source": [
    "# Descarga los datos de una estación del Servicio Meteorológico Nacional\n",
    "# http://smn1.conagua.gob.mx/emas/\n",
    "# Lee un archivo de texto con la función Pandas \"read_csv\", con elementos separados por mas de \n",
    "# un espacio, brincándose 4 renglones del inicio (encabezados)\n",
    "df0 = pd.read_csv('hermosillo.txt', skiprows=19, sep='\\s+',header=None,names=[\"DD/MM/YY\",\"PRECIP\",\"EVAP\",\"TMAX\",\"TMIN\"])\n",
    "# \"Shift + Enter\""
   ]
  },
  {
   "cell_type": "code",
   "execution_count": 4,
   "metadata": {},
   "outputs": [
    {
     "data": {
      "text/html": [
       "<div>\n",
       "<style scoped>\n",
       "    .dataframe tbody tr th:only-of-type {\n",
       "        vertical-align: middle;\n",
       "    }\n",
       "\n",
       "    .dataframe tbody tr th {\n",
       "        vertical-align: top;\n",
       "    }\n",
       "\n",
       "    .dataframe thead th {\n",
       "        text-align: right;\n",
       "    }\n",
       "</style>\n",
       "<table border=\"1\" class=\"dataframe\">\n",
       "  <thead>\n",
       "    <tr style=\"text-align: right;\">\n",
       "      <th></th>\n",
       "      <th>DD/MM/YY</th>\n",
       "      <th>PRECIP</th>\n",
       "      <th>EVAP</th>\n",
       "      <th>TMAX</th>\n",
       "      <th>TMIN</th>\n",
       "    </tr>\n",
       "  </thead>\n",
       "  <tbody>\n",
       "    <tr>\n",
       "      <th>0</th>\n",
       "      <td>14/10/1981</td>\n",
       "      <td>0.0</td>\n",
       "      <td>NaN</td>\n",
       "      <td>28.0</td>\n",
       "      <td>NaN</td>\n",
       "    </tr>\n",
       "    <tr>\n",
       "      <th>1</th>\n",
       "      <td>15/10/1981</td>\n",
       "      <td>0.0</td>\n",
       "      <td>7.3</td>\n",
       "      <td>26.0</td>\n",
       "      <td>14.0</td>\n",
       "    </tr>\n",
       "    <tr>\n",
       "      <th>2</th>\n",
       "      <td>16/10/1981</td>\n",
       "      <td>0.0</td>\n",
       "      <td>7.6</td>\n",
       "      <td>28.0</td>\n",
       "      <td>12.5</td>\n",
       "    </tr>\n",
       "    <tr>\n",
       "      <th>3</th>\n",
       "      <td>17/10/1981</td>\n",
       "      <td>0.0</td>\n",
       "      <td>8.1</td>\n",
       "      <td>28.0</td>\n",
       "      <td>10.0</td>\n",
       "    </tr>\n",
       "    <tr>\n",
       "      <th>4</th>\n",
       "      <td>18/10/1981</td>\n",
       "      <td>0.0</td>\n",
       "      <td>1.2</td>\n",
       "      <td>30.5</td>\n",
       "      <td>9.5</td>\n",
       "    </tr>\n",
       "  </tbody>\n",
       "</table>\n",
       "</div>"
      ],
      "text/plain": [
       "     DD/MM/YY  PRECIP  EVAP  TMAX  TMIN\n",
       "0  14/10/1981     0.0   NaN  28.0   NaN\n",
       "1  15/10/1981     0.0   7.3  26.0  14.0\n",
       "2  16/10/1981     0.0   7.6  28.0  12.5\n",
       "3  17/10/1981     0.0   8.1  28.0  10.0\n",
       "4  18/10/1981     0.0   1.2  30.5   9.5"
      ]
     },
     "execution_count": 4,
     "metadata": {},
     "output_type": "execute_result"
    }
   ],
   "source": [
    "# Lee los primeros 5 renglones del archivo\n",
    "df0.head()\n",
    "# \"Shift+Enter\""
   ]
  },
  {
   "cell_type": "code",
   "execution_count": 5,
   "metadata": {},
   "outputs": [
    {
     "data": {
      "text/html": [
       "<div>\n",
       "<style scoped>\n",
       "    .dataframe tbody tr th:only-of-type {\n",
       "        vertical-align: middle;\n",
       "    }\n",
       "\n",
       "    .dataframe tbody tr th {\n",
       "        vertical-align: top;\n",
       "    }\n",
       "\n",
       "    .dataframe thead th {\n",
       "        text-align: right;\n",
       "    }\n",
       "</style>\n",
       "<table border=\"1\" class=\"dataframe\">\n",
       "  <thead>\n",
       "    <tr style=\"text-align: right;\">\n",
       "      <th></th>\n",
       "      <th>DD/MM/YY</th>\n",
       "      <th>PRECIP</th>\n",
       "      <th>EVAP</th>\n",
       "      <th>TMAX</th>\n",
       "      <th>TMIN</th>\n",
       "    </tr>\n",
       "  </thead>\n",
       "  <tbody>\n",
       "    <tr>\n",
       "      <th>5439</th>\n",
       "      <td>26/09/1998</td>\n",
       "      <td>0.0</td>\n",
       "      <td>NaN</td>\n",
       "      <td>35.5</td>\n",
       "      <td>NaN</td>\n",
       "    </tr>\n",
       "    <tr>\n",
       "      <th>5440</th>\n",
       "      <td>27/09/1998</td>\n",
       "      <td>0.0</td>\n",
       "      <td>NaN</td>\n",
       "      <td>37.5</td>\n",
       "      <td>16.5</td>\n",
       "    </tr>\n",
       "    <tr>\n",
       "      <th>5441</th>\n",
       "      <td>28/09/1998</td>\n",
       "      <td>0.0</td>\n",
       "      <td>NaN</td>\n",
       "      <td>38.5</td>\n",
       "      <td>20.0</td>\n",
       "    </tr>\n",
       "    <tr>\n",
       "      <th>5442</th>\n",
       "      <td>29/09/1998</td>\n",
       "      <td>0.0</td>\n",
       "      <td>NaN</td>\n",
       "      <td>38.5</td>\n",
       "      <td>20.0</td>\n",
       "    </tr>\n",
       "    <tr>\n",
       "      <th>5443</th>\n",
       "      <td>30/09/1998</td>\n",
       "      <td>0.0</td>\n",
       "      <td>NaN</td>\n",
       "      <td>37.5</td>\n",
       "      <td>20.0</td>\n",
       "    </tr>\n",
       "  </tbody>\n",
       "</table>\n",
       "</div>"
      ],
      "text/plain": [
       "        DD/MM/YY  PRECIP  EVAP  TMAX  TMIN\n",
       "5439  26/09/1998     0.0   NaN  35.5   NaN\n",
       "5440  27/09/1998     0.0   NaN  37.5  16.5\n",
       "5441  28/09/1998     0.0   NaN  38.5  20.0\n",
       "5442  29/09/1998     0.0   NaN  38.5  20.0\n",
       "5443  30/09/1998     0.0   NaN  37.5  20.0"
      ]
     },
     "execution_count": 5,
     "metadata": {},
     "output_type": "execute_result"
    }
   ],
   "source": [
    "#Final de la tabla\n",
    "df0.tail() "
   ]
  },
  {
   "cell_type": "code",
   "execution_count": 6,
   "metadata": {},
   "outputs": [],
   "source": [
    "# Combinar las columnas \"DD/MM/AAAA\" con \"HH:MM\" y convertirla a variable de tiempo\n",
    "# Se crea una nueva columna \"Fecha\" al final con formato de tiempo.\n",
    "# Eliminamos las dos primeras columnas que ya no necesitaremos\n",
    "#FECHA\n",
    "df0['FECHA'] = pd.to_datetime(df0.apply(lambda x: x['DD/MM/YY'], 1), dayfirst=True)\n",
    "df0 = df0.drop(['DD/MM/YY'], 1)\n",
    "#Presipitación\n",
    "#df0['PRECIPITACIÓN'] = pd.to_datefloat(df0.apply(lambda x: x['PRECIP'], 1), dayfirst=True)\n",
    "#df0 = df0.drop(['PRECIP'], 1)"
   ]
  },
  {
   "cell_type": "code",
   "execution_count": 7,
   "metadata": {},
   "outputs": [
    {
     "data": {
      "text/plain": [
       "PRECIP           float64\n",
       "EVAP             float64\n",
       "TMAX             float64\n",
       "TMIN             float64\n",
       "FECHA     datetime64[ns]\n",
       "dtype: object"
      ]
     },
     "execution_count": 7,
     "metadata": {},
     "output_type": "execute_result"
    }
   ],
   "source": [
    "#Tipos de variables\n",
    "df0.dtypes "
   ]
  },
  {
   "cell_type": "code",
   "execution_count": 8,
   "metadata": {},
   "outputs": [
    {
     "data": {
      "text/plain": [
       "PRECIP     0.972096\n",
       "EVAP       6.432571\n",
       "TMAX      32.110032\n",
       "TMIN      13.363783\n",
       "dtype: float64"
      ]
     },
     "execution_count": 8,
     "metadata": {},
     "output_type": "execute_result"
    }
   ],
   "source": [
    "#Promedio\n",
    "df0.mean() "
   ]
  },
  {
   "cell_type": "code",
   "execution_count": 9,
   "metadata": {},
   "outputs": [
    {
     "data": {
      "text/plain": [
       "PRECIP    5.666403\n",
       "EVAP      3.219988\n",
       "TMAX      6.949653\n",
       "TMIN      7.035267\n",
       "dtype: float64"
      ]
     },
     "execution_count": 9,
     "metadata": {},
     "output_type": "execute_result"
    }
   ],
   "source": [
    "#Desviacion estandar\n",
    "df0.std() "
   ]
  },
  {
   "cell_type": "code",
   "execution_count": 10,
   "metadata": {},
   "outputs": [
    {
     "data": {
      "text/plain": [
       "PRECIP     0.0\n",
       "EVAP       6.1\n",
       "TMAX      33.0\n",
       "TMIN      12.0\n",
       "dtype: float64"
      ]
     },
     "execution_count": 10,
     "metadata": {},
     "output_type": "execute_result"
    }
   ],
   "source": [
    "#Mediana\n",
    "df0.median() "
   ]
  },
  {
   "cell_type": "code",
   "execution_count": 11,
   "metadata": {},
   "outputs": [
    {
     "data": {
      "text/plain": [
       "PRECIP                  119.3\n",
       "EVAP                     16.5\n",
       "TMAX                       49\n",
       "TMIN                       29\n",
       "FECHA     1998-09-30 00:00:00\n",
       "dtype: object"
      ]
     },
     "execution_count": 11,
     "metadata": {},
     "output_type": "execute_result"
    }
   ],
   "source": [
    "#Maximo\n",
    "df0.max() "
   ]
  },
  {
   "cell_type": "code",
   "execution_count": 12,
   "metadata": {},
   "outputs": [
    {
     "data": {
      "text/plain": [
       "PRECIP                      0\n",
       "EVAP                      0.1\n",
       "TMAX                        0\n",
       "TMIN                     -3.5\n",
       "FECHA     1981-10-14 00:00:00\n",
       "dtype: object"
      ]
     },
     "execution_count": 12,
     "metadata": {},
     "output_type": "execute_result"
    }
   ],
   "source": [
    "#Minimo\n",
    "df0.min() "
   ]
  },
  {
   "cell_type": "code",
   "execution_count": 13,
   "metadata": {},
   "outputs": [
    {
     "data": {
      "text/html": [
       "<div>\n",
       "<style scoped>\n",
       "    .dataframe tbody tr th:only-of-type {\n",
       "        vertical-align: middle;\n",
       "    }\n",
       "\n",
       "    .dataframe tbody tr th {\n",
       "        vertical-align: top;\n",
       "    }\n",
       "\n",
       "    .dataframe thead th {\n",
       "        text-align: right;\n",
       "    }\n",
       "</style>\n",
       "<table border=\"1\" class=\"dataframe\">\n",
       "  <thead>\n",
       "    <tr style=\"text-align: right;\">\n",
       "      <th></th>\n",
       "      <th>PRECIP</th>\n",
       "      <th>EVAP</th>\n",
       "      <th>TMAX</th>\n",
       "      <th>TMIN</th>\n",
       "    </tr>\n",
       "  </thead>\n",
       "  <tbody>\n",
       "    <tr>\n",
       "      <th>count</th>\n",
       "      <td>5182.000000</td>\n",
       "      <td>3104.000000</td>\n",
       "      <td>4974.000000</td>\n",
       "      <td>4959.000000</td>\n",
       "    </tr>\n",
       "    <tr>\n",
       "      <th>mean</th>\n",
       "      <td>0.972096</td>\n",
       "      <td>6.432571</td>\n",
       "      <td>32.110032</td>\n",
       "      <td>13.363783</td>\n",
       "    </tr>\n",
       "    <tr>\n",
       "      <th>std</th>\n",
       "      <td>5.666403</td>\n",
       "      <td>3.219988</td>\n",
       "      <td>6.949653</td>\n",
       "      <td>7.035267</td>\n",
       "    </tr>\n",
       "    <tr>\n",
       "      <th>min</th>\n",
       "      <td>0.000000</td>\n",
       "      <td>0.100000</td>\n",
       "      <td>0.000000</td>\n",
       "      <td>-3.500000</td>\n",
       "    </tr>\n",
       "    <tr>\n",
       "      <th>25%</th>\n",
       "      <td>0.000000</td>\n",
       "      <td>3.800000</td>\n",
       "      <td>26.625000</td>\n",
       "      <td>7.500000</td>\n",
       "    </tr>\n",
       "    <tr>\n",
       "      <th>50%</th>\n",
       "      <td>0.000000</td>\n",
       "      <td>6.100000</td>\n",
       "      <td>33.000000</td>\n",
       "      <td>12.000000</td>\n",
       "    </tr>\n",
       "    <tr>\n",
       "      <th>75%</th>\n",
       "      <td>0.000000</td>\n",
       "      <td>8.800000</td>\n",
       "      <td>37.500000</td>\n",
       "      <td>19.500000</td>\n",
       "    </tr>\n",
       "    <tr>\n",
       "      <th>max</th>\n",
       "      <td>119.300000</td>\n",
       "      <td>16.500000</td>\n",
       "      <td>49.000000</td>\n",
       "      <td>29.000000</td>\n",
       "    </tr>\n",
       "  </tbody>\n",
       "</table>\n",
       "</div>"
      ],
      "text/plain": [
       "            PRECIP         EVAP         TMAX         TMIN\n",
       "count  5182.000000  3104.000000  4974.000000  4959.000000\n",
       "mean      0.972096     6.432571    32.110032    13.363783\n",
       "std       5.666403     3.219988     6.949653     7.035267\n",
       "min       0.000000     0.100000     0.000000    -3.500000\n",
       "25%       0.000000     3.800000    26.625000     7.500000\n",
       "50%       0.000000     6.100000    33.000000    12.000000\n",
       "75%       0.000000     8.800000    37.500000    19.500000\n",
       "max     119.300000    16.500000    49.000000    29.000000"
      ]
     },
     "execution_count": 13,
     "metadata": {},
     "output_type": "execute_result"
    }
   ],
   "source": [
    "#Analisis estadistico\n",
    "df0.describe()"
   ]
  },
  {
   "cell_type": "code",
   "execution_count": 14,
   "metadata": {},
   "outputs": [
    {
     "data": {
      "text/plain": [
       "FECHA\n",
       "1981-10-31     0.027778\n",
       "1981-11-30     0.106667\n",
       "1981-12-31     0.000000\n",
       "1982-01-31     0.445161\n",
       "1982-02-28     0.000000\n",
       "1982-03-31     0.000000\n",
       "1982-04-30     0.000000\n",
       "1982-05-31     0.000000\n",
       "1982-06-30     0.000000\n",
       "1982-07-31     0.451613\n",
       "1982-08-31     1.265517\n",
       "1982-09-30     0.856667\n",
       "1982-10-31     0.000000\n",
       "1982-11-30     0.883333\n",
       "1982-12-31     1.054839\n",
       "1983-01-31     0.332258\n",
       "1983-02-28     0.578571\n",
       "1983-03-31     0.832258\n",
       "1983-04-30     0.203333\n",
       "1983-05-31     0.000000\n",
       "1983-06-30     0.000000\n",
       "1983-07-31     2.460714\n",
       "1983-08-31     1.851613\n",
       "1983-09-30    10.160000\n",
       "1983-10-31          NaN\n",
       "1983-11-30     2.000000\n",
       "1983-12-31     0.967742\n",
       "1984-01-31     1.816129\n",
       "1984-02-29     0.058621\n",
       "1984-03-31     0.000000\n",
       "                ...    \n",
       "1996-04-30     0.000000\n",
       "1996-05-31     0.000000\n",
       "1996-06-30     0.000000\n",
       "1996-07-31     7.660000\n",
       "1996-08-31     2.716667\n",
       "1996-09-30     0.400000\n",
       "1996-10-31     0.000000\n",
       "1996-11-30     0.000000\n",
       "1996-12-31     0.000000\n",
       "1997-01-31     0.000000\n",
       "1997-02-28     0.000000\n",
       "1997-03-31     0.000000\n",
       "1997-04-30     0.469565\n",
       "1997-05-31     0.000000\n",
       "1997-06-30     0.000000\n",
       "1997-07-31     0.000000\n",
       "1997-08-31     1.185000\n",
       "1997-09-30     0.195455\n",
       "1997-10-31     0.000000\n",
       "1997-11-30     0.373913\n",
       "1997-12-31     2.926923\n",
       "1998-01-31     0.000000\n",
       "1998-02-28     2.320000\n",
       "1998-03-31     0.000000\n",
       "1998-04-30          NaN\n",
       "1998-05-31          NaN\n",
       "1998-06-30     0.000000\n",
       "1998-07-31     0.000000\n",
       "1998-08-31     0.000000\n",
       "1998-09-30     1.680000\n",
       "Freq: M, Name: PRECIP, Length: 204, dtype: float64"
      ]
     },
     "execution_count": 14,
     "metadata": {},
     "output_type": "execute_result"
    }
   ],
   "source": [
    "df0.set_index(\"FECHA\").resample(\"M\")[\"PRECIP\"].mean()"
   ]
  },
  {
   "cell_type": "code",
   "execution_count": 15,
   "metadata": {},
   "outputs": [
    {
     "data": {
      "text/plain": [
       "FECHA\n",
       "1981-10-31    30.722222\n",
       "1981-11-30    29.516667\n",
       "1981-12-31    26.283333\n",
       "1982-01-31    21.677419\n",
       "1982-02-28    25.785714\n",
       "1982-03-31    27.870968\n",
       "1982-04-30    31.982143\n",
       "1982-05-31    33.048387\n",
       "1982-06-30    37.650000\n",
       "1982-07-31    39.344828\n",
       "1982-08-31    39.448276\n",
       "1982-09-30    38.750000\n",
       "1982-10-31    34.951613\n",
       "1982-11-30    27.016667\n",
       "1982-12-31    22.032258\n",
       "1983-01-31    23.935484\n",
       "1983-02-28    25.142857\n",
       "1983-03-31    26.709677\n",
       "1983-04-30    28.600000\n",
       "1983-05-31    35.790323\n",
       "1983-06-30    38.683333\n",
       "1983-07-31    40.277778\n",
       "1983-08-31    37.387097\n",
       "1983-09-30    37.447368\n",
       "1983-10-31          NaN\n",
       "1983-11-30    23.230769\n",
       "1983-12-31    24.383333\n",
       "1984-01-31    23.233333\n",
       "1984-02-29    25.464286\n",
       "1984-03-31    28.758065\n",
       "                ...    \n",
       "1996-04-30    34.312500\n",
       "1996-05-31    38.386364\n",
       "1996-06-30    41.886364\n",
       "1996-07-31    38.750000\n",
       "1996-08-31    39.321429\n",
       "1996-09-30    37.409091\n",
       "1996-10-31    34.818182\n",
       "1996-11-30    30.666667\n",
       "1996-12-31    26.826087\n",
       "1997-01-31    24.312500\n",
       "1997-02-28    25.785714\n",
       "1997-03-31    31.620000\n",
       "1997-04-30    31.840909\n",
       "1997-05-31    38.619048\n",
       "1997-06-30    40.227273\n",
       "1997-07-31    42.750000\n",
       "1997-08-31    40.225000\n",
       "1997-09-30    38.977273\n",
       "1997-10-31    34.545455\n",
       "1997-11-30    30.772727\n",
       "1997-12-31    21.940000\n",
       "1998-01-31    24.956522\n",
       "1998-02-28    23.714286\n",
       "1998-03-31    27.717391\n",
       "1998-04-30          NaN\n",
       "1998-05-31          NaN\n",
       "1998-06-30    39.977273\n",
       "1998-07-31    40.642857\n",
       "1998-08-31    39.562500\n",
       "1998-09-30    38.804348\n",
       "Freq: M, Name: TMAX, Length: 204, dtype: float64"
      ]
     },
     "execution_count": 15,
     "metadata": {},
     "output_type": "execute_result"
    }
   ],
   "source": [
    "df0.set_index(\"FECHA\").resample(\"M\")[\"TMAX\"].mean()"
   ]
  },
  {
   "cell_type": "code",
   "execution_count": 16,
   "metadata": {},
   "outputs": [
    {
     "data": {
      "text/plain": [
       "FECHA\n",
       "1981-10-31    13.029412\n",
       "1981-11-30     9.800000\n",
       "1981-12-31     6.000000\n",
       "1982-01-31     4.354839\n",
       "1982-02-28     5.892857\n",
       "1982-03-31     7.951613\n",
       "1982-04-30    10.535714\n",
       "1982-05-31    12.209677\n",
       "1982-06-30    14.900000\n",
       "1982-07-31    16.086207\n",
       "1982-08-31    24.086207\n",
       "1982-09-30    22.833333\n",
       "1982-10-31    13.241935\n",
       "1982-11-30    10.416667\n",
       "1982-12-31     8.161290\n",
       "1983-01-31     7.677419\n",
       "1983-02-28     7.821429\n",
       "1983-03-31     9.887097\n",
       "1983-04-30    10.183333\n",
       "1983-05-31    14.274194\n",
       "1983-06-30    17.600000\n",
       "1983-07-31    23.814815\n",
       "1983-08-31    23.258065\n",
       "1983-09-30    23.625000\n",
       "1983-10-31          NaN\n",
       "1983-11-30     6.346154\n",
       "1983-12-31     8.161290\n",
       "1984-01-31     5.733333\n",
       "1984-02-29     5.107143\n",
       "1984-03-31     7.580645\n",
       "                ...    \n",
       "1996-04-30    10.979167\n",
       "1996-05-31    14.500000\n",
       "1996-06-30    21.880952\n",
       "1996-07-31    24.054545\n",
       "1996-08-31    23.346154\n",
       "1996-09-30    20.931818\n",
       "1996-10-31    14.613636\n",
       "1996-11-30     9.175000\n",
       "1996-12-31     4.673913\n",
       "1997-01-31     5.708333\n",
       "1997-02-28     5.190476\n",
       "1997-03-31     8.740000\n",
       "1997-04-30    11.318182\n",
       "1997-05-31    17.690476\n",
       "1997-06-30    18.954545\n",
       "1997-07-31    24.125000\n",
       "1997-08-31    23.631579\n",
       "1997-09-30    24.113636\n",
       "1997-10-31    15.090909\n",
       "1997-11-30    10.523810\n",
       "1997-12-31     5.080000\n",
       "1998-01-31     6.608696\n",
       "1998-02-28     6.464286\n",
       "1998-03-31     7.434783\n",
       "1998-04-30          NaN\n",
       "1998-05-31          NaN\n",
       "1998-06-30    18.409091\n",
       "1998-07-31    24.625000\n",
       "1998-08-31    23.933333\n",
       "1998-09-30    22.456522\n",
       "Freq: M, Name: TMIN, Length: 204, dtype: float64"
      ]
     },
     "execution_count": 16,
     "metadata": {},
     "output_type": "execute_result"
    }
   ],
   "source": [
    "df0.set_index(\"FECHA\").resample(\"M\")[\"TMIN\"].mean()"
   ]
  },
  {
   "cell_type": "code",
   "execution_count": 17,
   "metadata": {},
   "outputs": [
    {
     "data": {
      "text/plain": [
       "FECHA\n",
       "1981-12-31    0.047436\n",
       "1982-12-31    0.411570\n",
       "1983-12-31    1.461967\n",
       "1984-12-31    1.352663\n",
       "1985-12-31    0.717308\n",
       "1986-12-31    1.114760\n",
       "1987-12-31    0.380899\n",
       "1988-12-31    0.844118\n",
       "1989-12-31    0.409016\n",
       "1990-12-31    1.766555\n",
       "1991-12-31    1.186798\n",
       "1992-12-31    1.905590\n",
       "1993-12-31    1.085197\n",
       "1994-12-31    1.563140\n",
       "1995-12-31    0.666667\n",
       "1996-12-31    0.536111\n",
       "1997-12-31    0.486220\n",
       "1998-12-31    0.586260\n",
       "Freq: A-DEC, Name: PRECIP, dtype: float64"
      ]
     },
     "execution_count": 17,
     "metadata": {},
     "output_type": "execute_result"
    }
   ],
   "source": [
    "df0.set_index(\"FECHA\").resample(\"Y\")[\"PRECIP\"].mean()"
   ]
  },
  {
   "cell_type": "code",
   "execution_count": 18,
   "metadata": {},
   "outputs": [
    {
     "data": {
      "text/plain": [
       "FECHA\n",
       "1981-12-31    28.551282\n",
       "1982-12-31    31.565460\n",
       "1983-12-31    31.207641\n",
       "1984-12-31    31.440751\n",
       "1985-12-31    32.248760\n",
       "1986-12-31    34.817844\n",
       "1987-12-31    32.795775\n",
       "1988-12-31    32.933234\n",
       "1989-12-31    31.489754\n",
       "1990-12-31    30.877076\n",
       "1991-12-31    31.321958\n",
       "1992-12-31    31.031034\n",
       "1993-12-31    32.495017\n",
       "1994-12-31    31.538314\n",
       "1995-12-31    33.113744\n",
       "1996-12-31    33.646091\n",
       "1997-12-31    32.522000\n",
       "1998-12-31    33.070312\n",
       "Freq: A-DEC, Name: TMAX, dtype: float64"
      ]
     },
     "execution_count": 18,
     "metadata": {},
     "output_type": "execute_result"
    }
   ],
   "source": [
    "df0.set_index(\"FECHA\").resample(\"Y\")[\"TMAX\"].mean()"
   ]
  },
  {
   "cell_type": "code",
   "execution_count": 19,
   "metadata": {},
   "outputs": [
    {
     "data": {
      "text/plain": [
       "FECHA\n",
       "1981-12-31     9.032468\n",
       "1982-12-31    12.515320\n",
       "1983-12-31    13.899340\n",
       "1984-12-31    13.268678\n",
       "1985-12-31    13.584298\n",
       "1986-12-31    16.015926\n",
       "1987-12-31    13.995775\n",
       "1988-12-31    13.882090\n",
       "1989-12-31    11.344262\n",
       "1990-12-31    13.131229\n",
       "1991-12-31    12.507645\n",
       "1992-12-31    13.261246\n",
       "1993-12-31    14.413621\n",
       "1994-12-31    13.092664\n",
       "1995-12-31    13.120853\n",
       "1996-12-31    12.817842\n",
       "1997-12-31    13.137097\n",
       "1998-12-31    14.773438\n",
       "Freq: A-DEC, Name: TMIN, dtype: float64"
      ]
     },
     "execution_count": 19,
     "metadata": {},
     "output_type": "execute_result"
    }
   ],
   "source": [
    "df0.set_index(\"FECHA\").resample(\"Y\")[\"TMIN\"].mean()"
   ]
  },
  {
   "cell_type": "code",
   "execution_count": null,
   "metadata": {},
   "outputs": [],
   "source": []
  }
 ],
 "metadata": {
  "kernelspec": {
   "display_name": "Python 3",
   "language": "python",
   "name": "python3"
  },
  "language_info": {
   "codemirror_mode": {
    "name": "ipython",
    "version": 3
   },
   "file_extension": ".py",
   "mimetype": "text/x-python",
   "name": "python",
   "nbconvert_exporter": "python",
   "pygments_lexer": "ipython3",
   "version": "3.7.1"
  }
 },
 "nbformat": 4,
 "nbformat_minor": 2
}
