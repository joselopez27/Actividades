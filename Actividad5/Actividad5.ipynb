{
 "cells": [
  {
   "cell_type": "code",
   "execution_count": 3,
   "metadata": {},
   "outputs": [],
   "source": [
    "#Cargar la biblioteca pandas\n",
    "import pandas as pd\n",
    "import numpy as np\n",
    "import matplotlib.pyplot as plt"
   ]
  },
  {
   "cell_type": "code",
   "execution_count": 4,
   "metadata": {},
   "outputs": [],
   "source": [
    "# Descarga los datos de una estación del Servicio Meteorológico Nacional\n",
    "# http://smn1.conagua.gob.mx/emas/\n",
    "# Lee un archivo de texto con la función Pandas \"read_csv\", con elementos separados por mas de \n",
    "# un espacio, brincándose 4 renglones del inicio (encabezados)\n",
    "df0 = pd.read_csv('hermosillo.txt', skiprows=19, sep='\\s+',header=None,names=[\"DD/MM/YY\",\"PRECIP\",\"EVAP\",\"TMAX\",\"TMIN\"])\n",
    "# \"Shift + Enter\"\n",
    "\n"
   ]
  },
  {
   "cell_type": "code",
   "execution_count": 5,
   "metadata": {},
   "outputs": [],
   "source": [
    "# Combinar las columnas \"DD/MM/AAAA\" con \"HH:MM\" y convertirla a variable de tiempo\n",
    "# Se crea una nueva columna \"Fecha\" al final con formato de tiempo.\n",
    "# Eliminamos las dos primeras columnas que ya no necesitaremos\n",
    "#FECHA\n",
    "df0['FECHA'] = pd.to_datetime(df0.apply(lambda x: x['DD/MM/YY'], 1), dayfirst=True)\n",
    "df0 = df0.drop(['DD/MM/YY'], 1)\n",
    "#Presipitación\n",
    "#df0['PRECIPITACIÓN'] = pd.to_datefloat(df0.apply(lambda x: x['PRECIP'], 1), dayfirst=True)\n",
    "#df0 = df0.drop(['PRECIP'], 1)\n",
    "\n"
   ]
  },
  {
   "cell_type": "code",
   "execution_count": 6,
   "metadata": {},
   "outputs": [],
   "source": [
    "#Crea una columna de años\n",
    "df0['MES'] = pd.DatetimeIndex(df0[\"FECHA\"]).month\n",
    "\n",
    "#Crea una columa de años\n",
    "df0[\"AÑO\"] = pd.DatetimeIndex(df0[\"FECHA\"]).year\n",
    "\n",
    "#Crea una columa de los dias\n",
    "df0[\"DIA\"] = pd.DatetimeIndex(df0[\"FECHA\"]).day\n"
   ]
  },
  {
   "cell_type": "code",
   "execution_count": 7,
   "metadata": {},
   "outputs": [],
   "source": [
    "#Guarda en un arreglo la precipitacion acumulada promedio por año \n",
    "df1 = df0.set_index('FECHA').resample('Y')[\"PRECIP\"].mean()"
   ]
  },
  {
   "cell_type": "code",
   "execution_count": 8,
   "metadata": {},
   "outputs": [],
   "source": [
    "#Guarda en un arreglo la precipitacion acumulada promedio por mes\n",
    "df2 = df0.set_index('FECHA').resample('M')[\"PRECIP\"].mean()\n"
   ]
  },
  {
   "cell_type": "code",
   "execution_count": 9,
   "metadata": {},
   "outputs": [],
   "source": [
    "dfmes = pd.DataFrame()\n",
    "años = len(df0['AÑO'].unique())\n",
    "dfmes[\"MES\"] = [i for i in range(1, 13)]\n",
    "dfmes[\"PRECIP\"] = [df0[df0.MES==i].PRECIP.mean() for i in range (1,13)]\n",
    "dfmes[\"TMAX\"] = [df0[df0.MES==i].TMAX.mean() for i in range (1,13)]\n",
    "dfmes[\"TMIN\"] = [df0[df0.MES==i].TMIN.mean() for i in range (1,13)]"
   ]
  },
  {
   "cell_type": "code",
   "execution_count": 10,
   "metadata": {},
   "outputs": [
    {
     "data": {
      "image/png": "[encoded data removed]",
      "text/plain": [
       "<Figure size 432x288 with 1 Axes>"
      ]
     },
     "metadata": {
      "needs_background": "light"
     },
     "output_type": "display_data"
    }
   ],
   "source": [
    "#Número de días con heladas por año (FD: Tmin < 0ºC)\n",
    "#Dias con heladas tmin<0\n",
    "\n",
    "\n",
    "\n",
    "\n",
    "#data1=[]\n",
    "#data2=[]\n",
    "#for i in range(0, 19):\n",
    "#    init=1981\n",
    "#    count=init + i #for i in range(0, 38)]\n",
    "#    j=df0[df0.AÑO==(1974+i)].TMIN\n",
    "#    ji=len([1 for i in j if i < 0])\n",
    "#    data1.append(count)\n",
    "#    data2.append(ji)\n",
    "#df3=pd.DataFrame({\"AÑO\" : data1,\"TMIN\" : data2})   \n",
    "#\n",
    "#x = df3.AÑO\n",
    "#y=np.arange(len(x))\n",
    "#TMIN= df3.TMIN\n",
    "# \n",
    "#plt.bar(y, TMIN, align='center')\n",
    "#plt.xticks(y, x,rotation=45)\n",
    "#plt.ylabel('Número de heladas')\n",
    "#plt.title(\"Dias con heladas tmin<0\")\n",
    "#plt.show()"
   ]
  },
  {
   "cell_type": "code",
   "execution_count": null,
   "metadata": {},
   "outputs": [],
   "source": []
  }
 ],
 "metadata": {
  "kernelspec": {
   "display_name": "Python 3",
   "language": "python",
   "name": "python3"
  },
  "language_info": {
   "codemirror_mode": {
    "name": "ipython",
    "version": 3
   },
   "file_extension": ".py",
   "mimetype": "text/x-python",
   "name": "python",
   "nbconvert_exporter": "python",
   "pygments_lexer": "ipython3",
   "version": "3.7.1"
  }
 },
 "nbformat": 4,
 "nbformat_minor": 2
}
