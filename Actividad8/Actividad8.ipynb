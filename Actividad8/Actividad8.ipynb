{
 "cells": [
  {
   "cell_type": "code",
   "execution_count": 117,
   "metadata": {},
   "outputs": [],
   "source": [
    "#Cargar la biblioteca pandas\n",
    "import pandas as pd\n",
    "import numpy as np\n",
    "import matplotlib.pyplot as plt\n",
    "#Importante para la actividad\n",
    "import seaborn as sns"
   ]
  },
  {
   "cell_type": "code",
   "execution_count": 118,
   "metadata": {},
   "outputs": [],
   "source": [
    "#lA FUNCION HEADER ES PARA LEER LOS PRIMEROS DOS RENGLOPNES COMO EL TITULO DE LA COLUMNA\n",
    "df0 = pd.read_csv('meteo-nogal-09.csv',engine='python')\n",
    "df1 = pd.read_csv('soil-nogal-09.csv',engine='python')\n",
    "pd.options.display.max_rows = 10000\n",
    "#pd.options.display.max_columns = 100"
   ]
  },
  {
   "cell_type": "code",
   "execution_count": 119,
   "metadata": {},
   "outputs": [],
   "source": [
    "#Borra las columas que no son necesarias\n",
    "df1.drop(df1.columns[4:12], axis=1, inplace=True)\n",
    "df1.drop(df1.columns[12:121], axis=1, inplace=True)\n",
    "df1.drop(df1.columns[[0]], axis=1, inplace=True)"
   ]
  },
  {
   "cell_type": "code",
   "execution_count": 120,
   "metadata": {},
   "outputs": [],
   "source": [
    "df1['3 Day_RTM  L'] = pd.to_datetime(df1['3 Day_RTM  L'], format='%j').dt.strftime('%m-%d')"
   ]
  },
  {
   "cell_type": "code",
   "execution_count": 121,
   "metadata": {
    "scrolled": true
   },
   "outputs": [],
   "source": [
    "df1[\"4 Hour_Minute_RTM  L\"] = df1[\"4 Hour_Minute_RTM  L\"].astype(str).replace(regex={r\"00$\":r\":00\" , r\"30$\":r\":30\" , r\"^:30\":r\"0:30\" , r\"24:00\":r\"00:00:01\"})"
   ]
  },
  {
   "cell_type": "code",
   "execution_count": 122,
   "metadata": {},
   "outputs": [],
   "source": [
    "df1['2 Year_RTM  L'] = df1['2 Year_RTM  L'].astype('str') "
   ]
  },
  {
   "cell_type": "code",
   "execution_count": 123,
   "metadata": {},
   "outputs": [],
   "source": [
    "df1[\"FECHA\"] = df1[\"2 Year_RTM  L\"] + \"-\" + df1[\"3 Day_RTM  L\"] + \" \" + df1[\"4 Hour_Minute_RTM  L\"]"
   ]
  },
  {
   "cell_type": "code",
   "execution_count": 124,
   "metadata": {},
   "outputs": [],
   "source": [
    "df1['FECHA'] = df1[\"FECHA\"].astype('datetime64[ns]')"
   ]
  },
  {
   "cell_type": "code",
   "execution_count": 125,
   "metadata": {},
   "outputs": [],
   "source": [
    "#RESETEA EL INDICE\n",
    "df0 = df0.drop(df0.index[0]).reset_index(drop=True)"
   ]
  },
  {
   "cell_type": "code",
   "execution_count": 126,
   "metadata": {},
   "outputs": [],
   "source": [
    "#Borra las columas que no son necesarias\n",
    "df0.drop(df0.columns[18:36], axis=1, inplace=True)\n",
    "df0.drop(df0.columns[2:4], axis=1, inplace=True)"
   ]
  },
  {
   "cell_type": "code",
   "execution_count": 127,
   "metadata": {},
   "outputs": [],
   "source": [
    "#JUNTAS ESTAS DOS COLUMAS PARA CREAR UNA SOLA COLUMA TIEMPO\n",
    "df0['FECHA'] = df0['DATE'] + ' ' + df0['TIME']\n",
    "df0.drop(['DATE', 'TIME'], axis=1 , inplace=True)"
   ]
  },
  {
   "cell_type": "code",
   "execution_count": 128,
   "metadata": {},
   "outputs": [],
   "source": [
    "#CONVERTIR TODAS LAS COLUMAS EN TIPO NUMERIC\n",
    "#df0 = df0.apply(pd.to_numeric, errors='coerce')"
   ]
  },
  {
   "cell_type": "code",
   "execution_count": 129,
   "metadata": {},
   "outputs": [],
   "source": [
    "df0['FECHA'] = df0[\"FECHA\"].astype('datetime64[ns]')"
   ]
  },
  {
   "cell_type": "code",
   "execution_count": 130,
   "metadata": {},
   "outputs": [],
   "source": [
    "df0[\"FECHA\"] = df0[\"FECHA\"].astype(str).replace(regex={r\"00:00:00$\":r\"00:00:01\"})"
   ]
  },
  {
   "cell_type": "code",
   "execution_count": 131,
   "metadata": {},
   "outputs": [],
   "source": [
    "df0['FECHA'] = df0[\"FECHA\"].astype('datetime64[ns]')"
   ]
  },
  {
   "cell_type": "code",
   "execution_count": 132,
   "metadata": {},
   "outputs": [],
   "source": [
    "df2 = pd.merge(df0, df1, on='FECHA')"
   ]
  },
  {
   "cell_type": "code",
   "execution_count": 133,
   "metadata": {},
   "outputs": [],
   "source": [
    "#Borra las columas que no son necesarias\n",
    "df2.drop(df2.columns[0:9], axis=1, inplace=True)\n",
    "df2.drop(df2.columns[1:5], axis=1, inplace=True)"
   ]
  },
  {
   "cell_type": "code",
   "execution_count": 134,
   "metadata": {},
   "outputs": [
    {
     "data": {
      "text/plain": [
       "airT_Avg                        object\n",
       "FECHA                   datetime64[ns]\n",
       "2 Year_RTM  L                   object\n",
       "3 Day_RTM  L                    object\n",
       "4 Hour_Minute_RTM  L            object\n",
       "Tsuelo_10cm                    float64\n",
       "Tsuelo_20cm                    float64\n",
       "Tsuelo_30cm                    float64\n",
       "Tsuelo_40cm                    float64\n",
       "Tsuelo_55cm                    float64\n",
       "Tsuelo_70cm                    float64\n",
       "Tsuelo_85cm                    float64\n",
       "Tsuelo_100cm                   float64\n",
       "dtype: object"
      ]
     },
     "execution_count": 134,
     "metadata": {},
     "output_type": "execute_result"
    }
   ],
   "source": [
    "df2.dtypes"
   ]
  },
  {
   "cell_type": "code",
   "execution_count": 136,
   "metadata": {},
   "outputs": [],
   "source": [
    "df2[\"airT_Avg\"] = pd.to_numeric(df2[\"airT_Avg\"])"
   ]
  },
  {
   "cell_type": "code",
   "execution_count": 137,
   "metadata": {
    "scrolled": true
   },
   "outputs": [],
   "source": [
    "#Seleccionar un día de Enero, y graficar la temperatura del aire, y las 4 temperaturas del subsuelo.(10,20,40,85)\n",
    "df3 = df2[ df2[\"3 Day_RTM  L\"] == \"01-27\"]"
   ]
  },
  {
   "cell_type": "code",
   "execution_count": 141,
   "metadata": {},
   "outputs": [
    {
     "data": {
      "image/png": "[encoded data removed]",
      "text/plain": [
       "<Figure size 432x288 with 1 Axes>"
      ]
     },
     "metadata": {
      "needs_background": "light"
     },
     "output_type": "display_data"
    }
   ],
   "source": [
    "df3.plot(x=\"FECHA\", y=[\"airT_Avg\", \"Tsuelo_10cm\" , \"Tsuelo_20cm\" , \"Tsuelo_40cm\" , \"Tsuelo_85cm\"])\n",
    "plt.show()"
   ]
  },
  {
   "cell_type": "code",
   "execution_count": null,
   "metadata": {},
   "outputs": [],
   "source": []
  },
  {
   "cell_type": "code",
   "execution_count": null,
   "metadata": {},
   "outputs": [],
   "source": []
  },
  {
   "cell_type": "code",
   "execution_count": null,
   "metadata": {},
   "outputs": [],
   "source": []
  },
  {
   "cell_type": "code",
   "execution_count": null,
   "metadata": {},
   "outputs": [],
   "source": []
  },
  {
   "cell_type": "code",
   "execution_count": null,
   "metadata": {},
   "outputs": [],
   "source": []
  }
 ],
 "metadata": {
  "kernelspec": {
   "display_name": "Python 3",
   "language": "python",
   "name": "python3"
  },
  "language_info": {
   "codemirror_mode": {
    "name": "ipython",
    "version": 3
   },
   "file_extension": ".py",
   "mimetype": "text/x-python",
   "name": "python",
   "nbconvert_exporter": "python",
   "pygments_lexer": "ipython3",
   "version": "3.7.1"
  }
 },
 "nbformat": 4,
 "nbformat_minor": 2
}
