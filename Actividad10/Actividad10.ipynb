{
 "cells": [
  {
   "cell_type": "code",
   "execution_count": 1,
   "metadata": {
    "scrolled": true
   },
   "outputs": [
    {
     "data": {
      "text/plain": [
       "<Figure size 640x480 with 1 Axes>"
      ]
     },
     "metadata": {},
     "output_type": "display_data"
    }
   ],
   "source": [
    "import numpy as np\n",
    "import matplotlib.pyplot as plt\n",
    "import math\n",
    "import pandas as pd\n",
    "from scipy.integrate import ode\n",
    "\n",
    "zw = [] \n",
    "wi = []\n",
    "z0 = [1, 0]\n",
    "z=1\n",
    "for i in range(0,251):\n",
    "    zaux=z0[0]\n",
    "    def fun(t, z, gamma , w , delta , alfa , beta ):\n",
    "        x, y = z\n",
    "        f = [y, gamma*math.cos(w*t)-delta*y-alfa*x-beta*x**3]\n",
    "        return f\n",
    "# Create an `ode` instance to solve the system of differential\n",
    "# equations defined by `fun`, and set the solver method to 'dop853'.\n",
    "    solver = ode(fun)\n",
    "    solver.set_integrator('dopri5')\n",
    "# Give the value of omega to the solver. This is passed to\n",
    "# `fun` when the solver calls it\n",
    "    gamma = 1\n",
    "    w = i*.01\n",
    "    delta = 0.1\n",
    "    alfa = 1\n",
    "    beta = 0.04\n",
    "    solver.set_f_params(gamma , w , delta , alfa , beta)\n",
    "    # Set the initial value z(0) = z0.\n",
    "    t0 = 0.0\n",
    "    z0 = [z, 0]\n",
    "    solver.set_initial_value(z0, t0)\n",
    "# Create the array `t` of time values at which to compute\n",
    "# the solution, and create an array to hold the solution.\n",
    "# Put the initial value in the solution array.\n",
    "    t1 = 50\n",
    "    N = 1300\n",
    "    t = np.linspace(t0, t1, N)\n",
    "    sol = np.empty((N, 2))\n",
    "    sol[0] = z0\n",
    "# Repeatedly call the `integrate` method to advance the\n",
    "# solution to time t[k], and save the solution in sol[k].\n",
    "    k = 1\n",
    "    while solver.successful() and solver.t < t1:\n",
    "        solver.integrate(t[k])\n",
    "        sol[k] = solver.y\n",
    "        k += 1                \n",
    "    x = sol[:,0]\n",
    "    zmin = abs(x.min())\n",
    "    zmax = x.max()\n",
    "    if zmax>zmin:\n",
    "        z = zmax\n",
    "    else: \n",
    "        z = zmin\n",
    "    \n",
    "    if z == z0[0]:\n",
    "        z=zaux\n",
    "    z0 = [z, 0]\n",
    "    zw.append(z)\n",
    "    wi.append(w)\n",
    "# Plot the solution...\n",
    "plt.plot(t, sol[:,0], label='x')\n",
    "#plt.plot(t, sol[:,1], label='y')\n",
    "plt.xlabel('t')\n",
    "plt.grid(True)\n",
    "plt.legend()\n",
    "plt.show()"
   ]
  },
  {
   "cell_type": "code",
   "execution_count": 2,
   "metadata": {},
   "outputs": [
    {
     "data": {
      "image/png": "[encoded data removed]",
      "text/plain": [
       "<Figure size 432x288 with 1 Axes>"
      ]
     },
     "metadata": {
      "needs_background": "light"
     },
     "output_type": "display_data"
    }
   ],
   "source": [
    "import numpy as np\n",
    "import matplotlib.pyplot as plt\n",
    "import math\n",
    "import pandas as pd\n",
    "from scipy.integrate import ode\n",
    "\n",
    "zw2 = [] \n",
    "wi2 = []\n",
    "z0 = [z, 0]\n",
    "for i in range(0,251):\n",
    "    zaux=z0[0]\n",
    "    def fun(t, z, gamma , w , delta , alfa , beta ):\n",
    "        x, y = z\n",
    "        f = [y, gamma*math.cos(w*t)-delta*y-alfa*x-beta*x**3]\n",
    "        return f\n",
    "# Create an `ode` instance to solve the system of differential\n",
    "# equations defined by `fun`, and set the solver method to 'dop853'.\n",
    "    solver = ode(fun)\n",
    "    solver.set_integrator('dopri5')\n",
    "# Give the value of omega to the solver. This is passed to\n",
    "# `fun` when the solver calls it\n",
    "    gamma = 1\n",
    "    w = 2.5-i*.01\n",
    "    delta = 0.1\n",
    "    alfa = 1\n",
    "    beta = 0.04\n",
    "    solver.set_f_params(gamma , w , delta , alfa , beta)\n",
    "    # Set the initial value z(0) = z0.\n",
    "    t0 = 0.0\n",
    "    z0 = [z, 0]\n",
    "    solver.set_initial_value(z0, t0)\n",
    "# Create the array `t` of time values at which to compute\n",
    "# the solution, and create an array to hold the solution.\n",
    "# Put the initial value in the solution array.\n",
    "    t1 = 50\n",
    "    N = 1300\n",
    "    t = np.linspace(t0, t1, N)\n",
    "    sol = np.empty((N, 2))\n",
    "    sol[0] = z0\n",
    "# Repeatedly call the `integrate` method to advance the\n",
    "# solution to time t[k], and save the solution in sol[k].\n",
    "    k = 1\n",
    "    while solver.successful() and solver.t < t1:\n",
    "        solver.integrate(t[k])\n",
    "        sol[k] = solver.y\n",
    "        k += 1                \n",
    "    x = sol[:,0]\n",
    "    zmin = abs(x.min())\n",
    "    zmax = x.max()\n",
    "    if zmax>zmin:\n",
    "        z = zmax\n",
    "    else: \n",
    "        z = zmin\n",
    "    \n",
    "    if z == z0[0]:\n",
    "        z=zaux\n",
    "    \n",
    "    z0 = [z, 0]\n",
    "    zw2.append(z)\n",
    "    wi2.append(w)\n",
    "# Plot the solution...\n",
    "plt.plot(t, sol[:,0], label='x')\n",
    "#plt.plot(t, sol[:,1], label='y')\n",
    "plt.xlabel('t')\n",
    "plt.grid(True)\n",
    "plt.legend()\n",
    "plt.show()"
   ]
  },
  {
   "cell_type": "code",
   "execution_count": 3,
   "metadata": {},
   "outputs": [
    {
     "data": {
      "image/png": "[encoded data removed]",
      "text/plain": [
       "<Figure size 432x288 with 1 Axes>"
      ]
     },
     "metadata": {
      "needs_background": "light"
     },
     "output_type": "display_data"
    }
   ],
   "source": [
    "# Plot the solution...\n",
    "#plt.plot(wi2, zw2, label='x' , marker = \".\")\n",
    "plt.plot(wi2, zw2, label='x', marker= \".\", linestyle=\"none\")\n",
    "plt.plot(wi, zw, label='x', marker= \".\", linestyle=\"none\")\n",
    "#plt.plot(t, sol[:,1], label='y')\n",
    "plt.xlabel('t')\n",
    "plt.grid(True)\n",
    "plt.legend()\n",
    "plt.show()"
   ]
  },
  {
   "cell_type": "code",
   "execution_count": 4,
   "metadata": {},
   "outputs": [
    {
     "data": {
      "text/plain": [
       "6.560629771805606"
      ]
     },
     "execution_count": 4,
     "metadata": {},
     "output_type": "execute_result"
    }
   ],
   "source": [
    "z0[0]"
   ]
  },
  {
   "cell_type": "code",
   "execution_count": null,
   "metadata": {},
   "outputs": [],
   "source": []
  }
 ],
 "metadata": {
  "kernelspec": {
   "display_name": "Python 3",
   "language": "python",
   "name": "python3"
  },
  "language_info": {
   "codemirror_mode": {
    "name": "ipython",
    "version": 3
   },
   "file_extension": ".py",
   "mimetype": "text/x-python",
   "name": "python",
   "nbconvert_exporter": "python",
   "pygments_lexer": "ipython3",
   "version": "3.7.1"
  }
 },
 "nbformat": 4,
 "nbformat_minor": 2
}
